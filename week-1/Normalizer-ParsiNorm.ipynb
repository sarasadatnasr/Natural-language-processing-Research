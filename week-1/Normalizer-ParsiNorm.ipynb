{
 "cells": [
  {
   "cell_type": "markdown",
   "metadata": {},
   "source": [
    "**ParsiNorm-Normalizer**\n",
    "\n",
    "https://github.com/haraai/ParsiNorm"
   ]
  },
  {
   "cell_type": "code",
   "execution_count": 2,
   "metadata": {},
   "outputs": [
    {
     "name": "stdout",
     "output_type": "stream",
     "text": [
      "Requirement already satisfied: parsinorm in c:\\users\\user\\appdata\\local\\programs\\python\\python310\\lib\\site-packages (0.0.3)\n",
      "Requirement already satisfied: persian-tools==0.0.10 in c:\\users\\user\\appdata\\local\\programs\\python\\python310\\lib\\site-packages (from parsinorm) (0.0.10)\n",
      "Requirement already satisfied: nltk==3.3 in c:\\users\\user\\appdata\\local\\programs\\python\\python310\\lib\\site-packages (from parsinorm) (3.3)\n",
      "Requirement already satisfied: urlextract==1.4.0 in c:\\users\\user\\appdata\\local\\programs\\python\\python310\\lib\\site-packages (from parsinorm) (1.4.0)\n",
      "Requirement already satisfied: num2fawords==1.1 in c:\\users\\user\\appdata\\local\\programs\\python\\python310\\lib\\site-packages (from parsinorm) (1.1)\n",
      "Requirement already satisfied: hazm==0.7.0 in c:\\users\\user\\appdata\\local\\programs\\python\\python310\\lib\\site-packages (from parsinorm) (0.7.0)\n",
      "Requirement already satisfied: six in c:\\users\\user\\appdata\\local\\programs\\python\\python310\\lib\\site-packages (from nltk==3.3->parsinorm) (1.12.0)\n",
      "Requirement already satisfied: idna in c:\\users\\user\\appdata\\local\\programs\\python\\python310\\lib\\site-packages (from urlextract==1.4.0->parsinorm) (3.3)\n",
      "Requirement already satisfied: uritools in c:\\users\\user\\appdata\\local\\programs\\python\\python310\\lib\\site-packages (from urlextract==1.4.0->parsinorm) (4.0.0)\n",
      "Requirement already satisfied: filelock in c:\\users\\user\\appdata\\local\\programs\\python\\python310\\lib\\site-packages (from urlextract==1.4.0->parsinorm) (3.7.1)\n",
      "Requirement already satisfied: appdirs in c:\\users\\user\\appdata\\local\\programs\\python\\python310\\lib\\site-packages (from urlextract==1.4.0->parsinorm) (1.4.4)\n"
     ]
    }
   ],
   "source": [
    "!pip install parsinorm\n",
    "from parsinorm import General_normalization"
   ]
  },
  {
   "cell_type": "markdown",
   "metadata": {},
   "source": [
    "اصلاح انواع حرف «ک» به معادل فارسی آنان"
   ]
  },
  {
   "cell_type": "code",
   "execution_count": 5,
   "metadata": {},
   "outputs": [
    {
     "name": "stdout",
     "output_type": "stream",
     "text": [
      "1603 1705\n"
     ]
    },
    {
     "data": {
      "text/plain": [
       "' این سبک با کیبورد فارسی و این سبک با کیبور عربی نوشته شده است'"
      ]
     },
     "execution_count": 5,
     "metadata": {},
     "output_type": "execute_result"
    }
   ],
   "source": [
    "normalizer = General_normalization()\n",
    "i = ord('ك')\n",
    "j = ord('ک')\n",
    "print(i, j)\n",
    "normalizer.alphabet_correction ( ' این سبک با کیبورد فارسی و این سبك با کیبور عربی نوشته شده است' )\n"
   ]
  },
  {
   "cell_type": "markdown",
   "metadata": {},
   "source": [
    "اصلاح انواع حرف «ی» به معادل فارسی آنان."
   ]
  },
  {
   "cell_type": "code",
   "execution_count": 7,
   "metadata": {},
   "outputs": [
    {
     "name": "stdout",
     "output_type": "stream",
     "text": [
      "1740 1610\n"
     ]
    },
    {
     "data": {
      "text/plain": [
       "' این شاکی با کیبورد فارسی و این شاکی با کیبور عربی نوشته شده است'"
      ]
     },
     "execution_count": 7,
     "metadata": {},
     "output_type": "execute_result"
    }
   ],
   "source": [
    "i = ord('ی')\n",
    "j = ord('ي')\n",
    "print(i, j)\n",
    "normalizer.alphabet_correction ( ' این شاکی با کیبورد فارسی و این شاکي با کیبور عربی نوشته شده است' )"
   ]
  },
  {
   "cell_type": "markdown",
   "metadata": {},
   "source": [
    "بررسی همزه و انواع مختلف املاهای موجود و اصلاح هر کدام"
   ]
  },
  {
   "cell_type": "code",
   "execution_count": 8,
   "metadata": {},
   "outputs": [
    {
     "data": {
      "text/plain": [
       "' این سبو با کیبورد فارسی و این سبؤ با کیبور عربی نوشته شده است'"
      ]
     },
     "execution_count": 8,
     "metadata": {},
     "output_type": "execute_result"
    }
   ],
   "source": [
    "\"\"\"ؤ به و\"\"\"\n",
    "normalizer.alphabet_correction( ' این سبو با کیبورد فارسی و این سبؤ با کیبور عربی نوشته شده است' )\n"
   ]
  },
  {
   "cell_type": "code",
   "execution_count": 10,
   "metadata": {},
   "outputs": [
    {
     "data": {
      "text/plain": [
       "' این ابر با کیبورد فارسی و این أبر با کیبور عربی نوشته شده است'"
      ]
     },
     "execution_count": 10,
     "metadata": {},
     "output_type": "execute_result"
    }
   ],
   "source": [
    "\"\"\"أ به ا \"\"\"\n",
    "normalizer.alphabet_correction( ' این ابر با کیبورد فارسی و این أبر با کیبور عربی نوشته شده است' )"
   ]
  },
  {
   "cell_type": "markdown",
   "metadata": {},
   "source": [
    "حذف شناسه‌ی همزه از انتهای واژه‌"
   ]
  },
  {
   "cell_type": "code",
   "execution_count": 11,
   "metadata": {},
   "outputs": [
    {
     "data": {
      "text/plain": [
       "'شهداء خورشیدند'"
      ]
     },
     "execution_count": 11,
     "metadata": {},
     "output_type": "execute_result"
    }
   ],
   "source": [
    "normalizer.alphabet_correction('شهداء خورشیدند')"
   ]
  },
  {
   "cell_type": "markdown",
   "metadata": {},
   "source": [
    " حذف شناسه «آ» به «ا"
   ]
  },
  {
   "cell_type": "code",
   "execution_count": 12,
   "metadata": {},
   "outputs": [
    {
     "data": {
      "text/plain": [
       "'آب  یا اب'"
      ]
     },
     "execution_count": 12,
     "metadata": {},
     "output_type": "execute_result"
    }
   ],
   "source": [
    "normalizer.alphabet_correction('آب  یا اب') "
   ]
  },
  {
   "cell_type": "markdown",
   "metadata": {},
   "source": [
    "اصلاح نویسه‌ی «طور» در واژه‌"
   ]
  },
  {
   "cell_type": "code",
   "execution_count": 15,
   "metadata": {},
   "outputs": [
    {
     "data": {
      "text/plain": [
       "' به طور خاص  آن طور که شایسته بود اینطور نشد'"
      ]
     },
     "execution_count": 15,
     "metadata": {},
     "output_type": "execute_result"
    }
   ],
   "source": [
    "normalizer.alphabet_correction(' به طور خاص  آن طور که شایسته بود اینطور نشد') "
   ]
  },
  {
   "cell_type": "markdown",
   "metadata": {},
   "source": [
    "بررسی وجود حرف «ی» در انتهای لغات"
   ]
  },
  {
   "cell_type": "code",
   "execution_count": 16,
   "metadata": {},
   "outputs": [
    {
     "data": {
      "text/plain": [
       "'که چرا باغچه\\u200cی کوچک ما سیب نداشت'"
      ]
     },
     "execution_count": 16,
     "metadata": {},
     "output_type": "execute_result"
    }
   ],
   "source": [
    "normalizer.alphabet_correction('که چرا باغچه‌ی کوچک ما سیب نداشت') "
   ]
  },
  {
   "cell_type": "code",
   "execution_count": 17,
   "metadata": {},
   "outputs": [
    {
     "data": {
      "text/plain": [
       "'که چرا باغچه\\u200c کوچک ما سیب نداشت'"
      ]
     },
     "execution_count": 17,
     "metadata": {},
     "output_type": "execute_result"
    }
   ],
   "source": [
    "normalizer.alphabet_correction('که چرا باغچه‌ٔ کوچک ما سیب نداشت') \n"
   ]
  },
  {
   "cell_type": "markdown",
   "metadata": {},
   "source": [
    "حذف تشدید از واژه‌ها\n"
   ]
  },
  {
   "cell_type": "code",
   "execution_count": 21,
   "metadata": {},
   "outputs": [
    {
     "data": {
      "text/plain": [
       "'بنا مشغول کار است'"
      ]
     },
     "execution_count": 21,
     "metadata": {},
     "output_type": "execute_result"
    }
   ],
   "source": [
    "normalizer.alphabet_correction('بنّا مشغول کار است') "
   ]
  },
  {
   "cell_type": "markdown",
   "metadata": {},
   "source": [
    "تبدیل ارقام انگلیسی به معادل فارسی"
   ]
  },
  {
   "cell_type": "code",
   "execution_count": 23,
   "metadata": {},
   "outputs": [
    {
     "data": {
      "text/plain": [
       "'۱۲۳۴۵ شماره من '"
      ]
     },
     "execution_count": 23,
     "metadata": {},
     "output_type": "execute_result"
    }
   ],
   "source": [
    "normalizer.unique_floating_point('12345 شماره من ') "
   ]
  },
  {
   "cell_type": "markdown",
   "metadata": {},
   "source": [
    "تبدیل ارقام عربی به معادل فارسی"
   ]
  },
  {
   "cell_type": "code",
   "execution_count": 24,
   "metadata": {},
   "outputs": [
    {
     "data": {
      "text/plain": [
       "'۱۲۳۴۵  شماره من '"
      ]
     },
     "execution_count": 24,
     "metadata": {},
     "output_type": "execute_result"
    }
   ],
   "source": [
    "normalizer.unique_floating_point('١٢٣٤٥  شماره من ') "
   ]
  },
  {
   "cell_type": "markdown",
   "metadata": {},
   "source": [
    "اصلاح نویسه‌ی نیم‌فاصله"
   ]
  },
  {
   "cell_type": "code",
   "execution_count": 28,
   "metadata": {},
   "outputs": [
    {
     "data": {
      "text/plain": [
       "'خانه ام را باد می\\u200cبرد'"
      ]
     },
     "execution_count": 28,
     "metadata": {},
     "output_type": "execute_result"
    }
   ],
   "source": [
    "normalizer.semi_space_correction('خانه ام را باد می‌برد') "
   ]
  },
  {
   "cell_type": "markdown",
   "metadata": {},
   "source": [
    "اصلاح اعراب و حذف فتحه، کسره و ضمه و همچنین تنوین‌ها"
   ]
  },
  {
   "cell_type": "code",
   "execution_count": 29,
   "metadata": {},
   "outputs": [
    {
     "data": {
      "text/plain": [
       "'الا یا ایها الساقی ادر کأسا و ناولها'"
      ]
     },
     "execution_count": 29,
     "metadata": {},
     "output_type": "execute_result"
    }
   ],
   "source": [
    "normalizer.alphabet_correction('اَلا یا اَیُّهَا السّاقی اَدِرْ کَأْساً و ناوِلْها') "
   ]
  },
  {
   "cell_type": "markdown",
   "metadata": {},
   "source": [
    "حذف نیم‌فاصله‌های تکراری"
   ]
  },
  {
   "cell_type": "code",
   "execution_count": 35,
   "metadata": {},
   "outputs": [
    {
     "data": {
      "text/plain": [
       "'خانه\\u200c\\u200c\\u200c\\u200c\\u200c\\u200c\\u200cام \\u200cرا باد می\\u200c\\u200c\\u200c\\u200cبرد'"
      ]
     },
     "execution_count": 35,
     "metadata": {},
     "output_type": "execute_result"
    }
   ],
   "source": [
    "#normalizer.semi_space_correction('خانه‌‌‌‌‌‌‌ام ‌را باد می‌‌‌‌برد')\n",
    "normalizer.alphabet_correction('خانه‌‌‌‌‌‌‌ام ‌را باد می‌‌‌‌برد')"
   ]
  },
  {
   "cell_type": "markdown",
   "metadata": {},
   "source": [
    "حذف نویسه‌ی «ـ» که برای کشش نویسه­های چسبان مورد استفاده قرار می­گیرد"
   ]
  },
  {
   "cell_type": "code",
   "execution_count": 31,
   "metadata": {},
   "outputs": [
    {
     "data": {
      "text/plain": [
       "'تبدیل «بر» و «بر» به «بر»'"
      ]
     },
     "execution_count": 31,
     "metadata": {},
     "output_type": "execute_result"
    }
   ],
   "source": [
    "normalizer.alphabet_correction('تبدیل «بــــــــر» و «بـــر» به «بر»') "
   ]
  },
  {
   "cell_type": "markdown",
   "metadata": {},
   "source": [
    "چسباندن پسوندهای «تر»، «ترین» و … به آخر واژه‌ها"
   ]
  },
  {
   "cell_type": "code",
   "execution_count": 33,
   "metadata": {},
   "outputs": [
    {
     "data": {
      "text/plain": [
       "'به\\u200cترین شما با تقوا ترین شماست'"
      ]
     },
     "execution_count": 33,
     "metadata": {},
     "output_type": "execute_result"
    }
   ],
   "source": [
    "#normalizer.semi_space_correction('به‌ترین شما با تقوا ترین شماست') \n",
    "normalizer.alphabet_correction('به‌ترین شما با تقوا ترین شماست') "
   ]
  },
  {
   "cell_type": "markdown",
   "metadata": {},
   "source": [
    "اصلاح فاصله‌گذاری «ها» در انتهای واژه‌ها"
   ]
  },
  {
   "cell_type": "code",
   "execution_count": 38,
   "metadata": {},
   "outputs": [
    {
     "data": {
      "text/plain": [
       "'واژه ها و کلمه\\u200c ها و جمله ها زبان ها را می\\u200cسازند'"
      ]
     },
     "execution_count": 38,
     "metadata": {},
     "output_type": "execute_result"
    }
   ],
   "source": [
    "normalizer.semi_space_correction('واژه ها و کلمه‌ ها و جمله ها زبان ها را می‌سازند') \n",
    "#normalizer.alphabet_correction('واژه ها و کلمه‌ ها و جمله ها زبان ها را می‌سازند') "
   ]
  },
  {
   "cell_type": "markdown",
   "metadata": {},
   "source": [
    "اصلاح فاصله‌گذاری «می»"
   ]
  },
  {
   "cell_type": "code",
   "execution_count": 39,
   "metadata": {},
   "outputs": [
    {
     "data": {
      "text/plain": [
       "'می ایم که بروم نمی\\u200cایم که بمانم'"
      ]
     },
     "execution_count": 39,
     "metadata": {},
     "output_type": "execute_result"
    }
   ],
   "source": [
    "normalizer.alphabet_correction('می ایم که بروم نمی‌ایم که بمانم') "
   ]
  },
  {
   "cell_type": "markdown",
   "metadata": {},
   "source": [
    "تبدیل «‍ه» به «‍ه‌ی»"
   ]
  },
  {
   "cell_type": "code",
   "execution_count": 40,
   "metadata": {},
   "outputs": [
    {
     "data": {
      "text/plain": [
       "'جاده قدیمی'"
      ]
     },
     "execution_count": 40,
     "metadata": {},
     "output_type": "execute_result"
    }
   ],
   "source": [
    "normalizer.alphabet_correction('جاده قدیمی') "
   ]
  },
  {
   "cell_type": "markdown",
   "metadata": {},
   "source": [
    "تبدیل «ب» متصل به ابتدای واژه‌ها به «به»"
   ]
  },
  {
   "cell_type": "code",
   "execution_count": 41,
   "metadata": {},
   "outputs": [
    {
     "data": {
      "text/plain": [
       "'بنام خدا'"
      ]
     },
     "execution_count": 41,
     "metadata": {},
     "output_type": "execute_result"
    }
   ],
   "source": [
    "normalizer.alphabet_correction('بنام خدا') "
   ]
  },
  {
   "cell_type": "markdown",
   "metadata": {},
   "source": [
    "اصلاح فاصله‌گذاری پسوندها\n"
   ]
  },
  {
   "cell_type": "code",
   "execution_count": 42,
   "metadata": {},
   "outputs": [
    {
     "data": {
      "text/plain": [
       "'. در آمد. با هنر . باز گشت'"
      ]
     },
     "execution_count": 42,
     "metadata": {},
     "output_type": "execute_result"
    }
   ],
   "source": [
    "normalizer.semi_space_correction('. در آمد. با هنر . باز گشت') "
   ]
  },
  {
   "cell_type": "markdown",
   "metadata": {},
   "source": [
    "حذف فاصله‌ها و نیم‌فاصله‌های اضافه بکار رفته در متن\n"
   ]
  },
  {
   "cell_type": "code",
   "execution_count": 43,
   "metadata": {},
   "outputs": [
    {
     "data": {
      "text/plain": [
       "'. گفته\\u200c\\u200c\\u200c\\u200c\\u200c\\u200c\\u200c\\u200cبودم    چو بیایی غم دل با تو بگویم '"
      ]
     },
     "execution_count": 43,
     "metadata": {},
     "output_type": "execute_result"
    }
   ],
   "source": [
    "normalizer.semi_space_correction('. گفته‌‌‌‌‌‌‌‌بودم    چو بیایی غم دل با تو بگویم ') "
   ]
  },
  {
   "cell_type": "markdown",
   "metadata": {},
   "source": [
    "تصحیح فاصله‌گذاری در مورد علائم سجاوندی"
   ]
  },
  {
   "cell_type": "code",
   "execution_count": 57,
   "metadata": {},
   "outputs": [
    {
     "data": {
      "text/plain": [
       "'کوچ تا چند ؟ ! مگر میشود , از خویش . گریخت ؟'"
      ]
     },
     "execution_count": 57,
     "metadata": {},
     "output_type": "execute_result"
    }
   ],
   "source": [
    "normalizer.space_between_punctuations_and_text('کوچ تا چند ؟! مگر میشود, از خویش . گریخت ؟') "
   ]
  },
  {
   "cell_type": "markdown",
   "metadata": {},
   "source": [
    "حذف حالات فانتزی"
   ]
  },
  {
   "cell_type": "code",
   "execution_count": 49,
   "metadata": {},
   "outputs": [
    {
     "data": {
      "text/plain": [
       "' ر چشم باد'"
      ]
     },
     "execution_count": 49,
     "metadata": {},
     "output_type": "execute_result"
    }
   ],
   "source": [
    "normalizer.remove_not_desired_chars('בر چشم باد') "
   ]
  },
  {
   "cell_type": "markdown",
   "metadata": {},
   "source": [
    "اتصال کلمه به پیشوند و پسوندهای فعل (صرف فعل)"
   ]
  },
  {
   "cell_type": "code",
   "execution_count": 51,
   "metadata": {},
   "outputs": [
    {
     "data": {
      "text/plain": [
       "'یک نفر را همراه اش آورده بود تا جدیتش را برای مسابقه نشان داده باشد.گویا روزی معلم سر کلاس خوابش برده بوده است و او دزدکی وارد کلاس شده است.فهمیدم که رفته و همه چیز را کف دست معلم ش گذاشته است. رضا داشته می\\u200cآمده استآنچه او را صبور کرده است، چشم\\u200cپوشی\\u200cاش بر خطای دیگران است . خواندن کتابی که به احمد دادم، ثأثیر زیادی روی او گذاشته است.'"
      ]
     },
     "execution_count": 51,
     "metadata": {},
     "output_type": "execute_result"
    }
   ],
   "source": [
    "'''زمان'''\n",
    "normalizer.alphabet_correction(\n",
    "'یک نفر را همراه اش آورده بود تا جدیتش را برای مسابقه نشان داده باشد.'\n",
    "'گویا روزی معلم سر کلاس خوابش برده بوده است و او دزدکی وارد کلاس شده است.' \n",
    "'فهمیدم که رفته و همه چیز را کف دست معلم ش گذاشته است. '\n",
    "'رضا داشته می‌آمده استآنچه او را صبور کرده است، چشم‌پوشی‌اش بر خطای دیگران است . '\n",
    "'خواندن کتابی که به احمد دادم، ثأثیر زیادی روی او گذاشته است.'\n",
    ") "
   ]
  },
  {
   "cell_type": "code",
   "execution_count": 52,
   "metadata": {},
   "outputs": [
    {
     "data": {
      "text/plain": [
       "' .ببوی نامه ام را . به دانش گرای و بدو شو بلند. گفت امش چرا '"
      ]
     },
     "execution_count": 52,
     "metadata": {},
     "output_type": "execute_result"
    }
   ],
   "source": [
    "'''اخر فعل'''\n",
    "normalizer.alphabet_correction(' .ببوی نامه ام را . به دانش گرای و بدو شو بلند. گفت امش چرا ')\n"
   ]
  },
  {
   "cell_type": "markdown",
   "metadata": {},
   "source": [
    " اتصال به ی نکره "
   ]
  },
  {
   "cell_type": "code",
   "execution_count": 53,
   "metadata": {},
   "outputs": [
    {
     "data": {
      "text/plain": [
       "'گل ی خوش بوی در حمام روز ی رسید از دست محبوبی به دستم'"
      ]
     },
     "execution_count": 53,
     "metadata": {},
     "output_type": "execute_result"
    }
   ],
   "source": [
    "normalizer.semi_space_correction('گل ی خوش بوی در حمام روز ی رسید از دست محبوبی به دستم') "
   ]
  },
  {
   "cell_type": "markdown",
   "metadata": {},
   "source": [
    " ضمایر متصل"
   ]
  },
  {
   "cell_type": "code",
   "execution_count": 54,
   "metadata": {},
   "outputs": [
    {
     "data": {
      "text/plain": [
       "' .کار\\u200cشان . خانه ام.کتاب\\u200cش را '"
      ]
     },
     "execution_count": 54,
     "metadata": {},
     "output_type": "execute_result"
    }
   ],
   "source": [
    "normalizer.semi_space_correction(' .کار‌شان . خانه ام.کتاب‌ش را ') "
   ]
  },
  {
   "cell_type": "markdown",
   "metadata": {},
   "source": [
    " کلمات مرکب"
   ]
  },
  {
   "cell_type": "code",
   "execution_count": 56,
   "metadata": {},
   "outputs": [
    {
     "data": {
      "text/plain": [
       "'گفت و گو . جانماز . رخت کن'"
      ]
     },
     "execution_count": 56,
     "metadata": {},
     "output_type": "execute_result"
    }
   ],
   "source": [
    "normalizer.semi_space_correction('گفت و گو . جانماز . رخت کن') "
   ]
  },
  {
   "cell_type": "markdown",
   "metadata": {},
   "source": [
    "محاوره به رسمی"
   ]
  },
  {
   "cell_type": "code",
   "execution_count": 58,
   "metadata": {},
   "outputs": [
    {
     "data": {
      "text/plain": [
       "' میخوام بیام ولی دارم میرم'"
      ]
     },
     "execution_count": 58,
     "metadata": {},
     "output_type": "execute_result"
    }
   ],
   "source": [
    "normalizer.alphabet_correction(' میخوام بیام ولی دارم میرم') "
   ]
  },
  {
   "cell_type": "markdown",
   "metadata": {},
   "source": [
    "تبدیل فینگلیش به فارسی"
   ]
  },
  {
   "cell_type": "code",
   "execution_count": 61,
   "metadata": {},
   "outputs": [
    {
     "data": {
      "text/plain": [
       "'salam chetori'"
      ]
     },
     "execution_count": 61,
     "metadata": {},
     "output_type": "execute_result"
    }
   ],
   "source": [
    "normalizer.alphabet_correction('salam chetori') "
   ]
  },
  {
   "cell_type": "markdown",
   "metadata": {},
   "source": [
    "حذف حروف تکراری"
   ]
  },
  {
   "cell_type": "code",
   "execution_count": 63,
   "metadata": {},
   "outputs": [
    {
     "data": {
      "text/plain": [
       "'سلاااااااااااااام '"
      ]
     },
     "execution_count": 63,
     "metadata": {},
     "output_type": "execute_result"
    }
   ],
   "source": [
    "normalizer.alphabet_correction('سلاااااااااااااام ') "
   ]
  }
 ],
 "metadata": {
  "kernelspec": {
   "display_name": "Python 3.10.4 64-bit",
   "language": "python",
   "name": "python3"
  },
  "language_info": {
   "codemirror_mode": {
    "name": "ipython",
    "version": 3
   },
   "file_extension": ".py",
   "mimetype": "text/x-python",
   "name": "python",
   "nbconvert_exporter": "python",
   "pygments_lexer": "ipython3",
   "version": "3.10.4"
  },
  "orig_nbformat": 4,
  "vscode": {
   "interpreter": {
    "hash": "afb734500600fd355917ca529030176ea0ca205570884b88f2f6f7d791fd3fbe"
   }
  }
 },
 "nbformat": 4,
 "nbformat_minor": 2
}
