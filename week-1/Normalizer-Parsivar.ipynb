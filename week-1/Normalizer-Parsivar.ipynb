{
 "cells": [
  {
   "cell_type": "markdown",
   "metadata": {},
   "source": [
    "**Parsivar-Normalizer**\n",
    "\n",
    "https://pypi.org/project/parsivar/"
   ]
  },
  {
   "cell_type": "code",
   "execution_count": 19,
   "metadata": {},
   "outputs": [
    {
     "name": "stdout",
     "output_type": "stream",
     "text": [
      "Requirement already satisfied: parsivar in c:\\users\\user\\anaconda3\\lib\\site-packages (0.2.3)\n",
      "Requirement already satisfied: nltk==3.4.5 in c:\\users\\user\\anaconda3\\lib\\site-packages (from parsivar) (3.4.5)\n",
      "Requirement already satisfied: six in c:\\users\\user\\anaconda3\\lib\\site-packages (from nltk==3.4.5->parsivar) (1.12.0)\n"
     ]
    }
   ],
   "source": [
    "!pip install parsivar\n",
    "from parsivar import Normalizer"
   ]
  },
  {
   "cell_type": "markdown",
   "metadata": {},
   "source": [
    "اصلاح انواع حرف «ک» به معادل فارسی آنان"
   ]
  },
  {
   "cell_type": "code",
   "execution_count": 20,
   "metadata": {},
   "outputs": [
    {
     "name": "stdout",
     "output_type": "stream",
     "text": [
      "1603 1705\n"
     ]
    },
    {
     "data": {
      "text/plain": [
       "'این سبک با کیبورد فارسی و این سبک با کیبور عربی نوشته\\u200cشده\\u200cاست'"
      ]
     },
     "execution_count": 20,
     "metadata": {},
     "output_type": "execute_result"
    }
   ],
   "source": [
    "normalizer = Normalizer()\n",
    "i = ord('ك')\n",
    "j = ord('ک')\n",
    "print(i, j)\n",
    "normalizer.normalize ( ' این سبک با کیبورد فارسی و این سبك با کیبور عربی نوشته شده است' )\n"
   ]
  },
  {
   "cell_type": "markdown",
   "metadata": {},
   "source": [
    "اصلاح انواع حرف «ی» به معادل فارسی آنان."
   ]
  },
  {
   "cell_type": "code",
   "execution_count": 21,
   "metadata": {},
   "outputs": [
    {
     "name": "stdout",
     "output_type": "stream",
     "text": [
      "1740 1610\n"
     ]
    },
    {
     "data": {
      "text/plain": [
       "'این شاکی با کیبورد فارسی و این شاکی با کیبور عربی نوشته\\u200cشده\\u200cاست'"
      ]
     },
     "execution_count": 21,
     "metadata": {},
     "output_type": "execute_result"
    }
   ],
   "source": [
    "i = ord('ی')\n",
    "j = ord('ي')\n",
    "print(i, j)\n",
    "normalizer.normalize ( ' این شاکی با کیبورد فارسی و این شاکي با کیبور عربی نوشته شده است' )"
   ]
  },
  {
   "cell_type": "markdown",
   "metadata": {},
   "source": [
    "بررسی همزه و انواع مختلف املاهای موجود و اصلاح هر کدام"
   ]
  },
  {
   "cell_type": "code",
   "execution_count": 26,
   "metadata": {},
   "outputs": [
    {
     "data": {
      "text/plain": [
       "'این سبو با کیبورد فارسی و این سبو با کیبور عربی نوشته\\u200cشده\\u200cاست'"
      ]
     },
     "execution_count": 26,
     "metadata": {},
     "output_type": "execute_result"
    }
   ],
   "source": [
    "\"\"\"ؤ به و\"\"\"\n",
    "normalizer.normalize ( ' این سبو با کیبورد فارسی و این سبؤ با کیبور عربی نوشته شده است' )\n"
   ]
  },
  {
   "cell_type": "code",
   "execution_count": 27,
   "metadata": {},
   "outputs": [
    {
     "data": {
      "text/plain": [
       "'این ابر با کیبورد فارسی و این ابر با کیبور عربی نوشته\\u200cشده\\u200cاست'"
      ]
     },
     "execution_count": 27,
     "metadata": {},
     "output_type": "execute_result"
    }
   ],
   "source": [
    "\"\"\"أ به ا \"\"\"\n",
    "normalizer.normalize ( ' این ابر با کیبورد فارسی و این أبر با کیبور عربی نوشته شده است' )"
   ]
  },
  {
   "cell_type": "markdown",
   "metadata": {},
   "source": [
    "حذف شناسه‌ی همزه از انتهای واژه‌"
   ]
  },
  {
   "cell_type": "code",
   "execution_count": 28,
   "metadata": {},
   "outputs": [
    {
     "data": {
      "text/plain": [
       "'شهدائ خورشیدند'"
      ]
     },
     "execution_count": 28,
     "metadata": {},
     "output_type": "execute_result"
    }
   ],
   "source": [
    "normalizer.normalize ('شهداء خورشیدند')"
   ]
  },
  {
   "cell_type": "markdown",
   "metadata": {},
   "source": [
    " حذف شناسه «آ» به «ا"
   ]
  },
  {
   "cell_type": "code",
   "execution_count": 29,
   "metadata": {},
   "outputs": [
    {
     "data": {
      "text/plain": [
       "'آب یا اب'"
      ]
     },
     "execution_count": 29,
     "metadata": {},
     "output_type": "execute_result"
    }
   ],
   "source": [
    "normalizer.normalize('آب  یا اب') "
   ]
  },
  {
   "cell_type": "markdown",
   "metadata": {},
   "source": [
    "اصلاح نویسه‌ی «طور» در واژه‌"
   ]
  },
  {
   "cell_type": "code",
   "execution_count": 33,
   "metadata": {},
   "outputs": [
    {
     "data": {
      "text/plain": [
       "'به\\u200cطور خاص آن طور که شایسته\\u200cبود اینطور نشد'"
      ]
     },
     "execution_count": 33,
     "metadata": {},
     "output_type": "execute_result"
    }
   ],
   "source": [
    "normalizer.normalize(' به طور خاص  آن طور که شایسته بود اینطور نشد') "
   ]
  },
  {
   "cell_type": "markdown",
   "metadata": {},
   "source": [
    "بررسی وجود حرف «ی» در انتهای لغات"
   ]
  },
  {
   "cell_type": "code",
   "execution_count": 32,
   "metadata": {},
   "outputs": [
    {
     "data": {
      "text/plain": [
       "'که چرا باغچه\\u200cی کوچک ما سیب نداشت'"
      ]
     },
     "execution_count": 32,
     "metadata": {},
     "output_type": "execute_result"
    }
   ],
   "source": [
    "normalizer.normalize('که چرا باغچه‌ی کوچک ما سیب نداشت') "
   ]
  },
  {
   "cell_type": "code",
   "execution_count": 34,
   "metadata": {},
   "outputs": [
    {
     "data": {
      "text/plain": [
       "'که چرا باغچه\\u200cٔ کوچک ما سیب نداشت'"
      ]
     },
     "execution_count": 34,
     "metadata": {},
     "output_type": "execute_result"
    }
   ],
   "source": [
    "normalizer.normalize('که چرا باغچه‌ٔ کوچک ما سیب نداشت') \n"
   ]
  },
  {
   "cell_type": "markdown",
   "metadata": {},
   "source": [
    "حذف تشدید از واژه‌ها\n"
   ]
  },
  {
   "cell_type": "code",
   "execution_count": 45,
   "metadata": {},
   "outputs": [
    {
     "data": {
      "text/plain": [
       "'بنّا مشفول کار است'"
      ]
     },
     "execution_count": 45,
     "metadata": {},
     "output_type": "execute_result"
    }
   ],
   "source": [
    "normalizer.normalize('بنّا مشفول کار است') "
   ]
  },
  {
   "cell_type": "markdown",
   "metadata": {},
   "source": [
    "تبدیل ارقام انگلیسی به معادل فارسی"
   ]
  },
  {
   "cell_type": "code",
   "execution_count": 47,
   "metadata": {},
   "outputs": [
    {
     "data": {
      "text/plain": [
       "'12345 شماره من'"
      ]
     },
     "execution_count": 47,
     "metadata": {},
     "output_type": "execute_result"
    }
   ],
   "source": [
    "normalizer.normalize('12345 شماره من ') "
   ]
  },
  {
   "cell_type": "markdown",
   "metadata": {},
   "source": [
    "تبدیل ارقام عربی به معادل فارسی"
   ]
  },
  {
   "cell_type": "code",
   "execution_count": 48,
   "metadata": {},
   "outputs": [
    {
     "data": {
      "text/plain": [
       "'1234٥ شماره من'"
      ]
     },
     "execution_count": 48,
     "metadata": {},
     "output_type": "execute_result"
    }
   ],
   "source": [
    "normalizer.normalize('١٢٣٤٥  شماره من ') "
   ]
  },
  {
   "cell_type": "markdown",
   "metadata": {},
   "source": [
    "اصلاح نویسه‌ی نیم‌فاصله"
   ]
  },
  {
   "cell_type": "code",
   "execution_count": 73,
   "metadata": {},
   "outputs": [
    {
     "data": {
      "text/plain": [
       "'خانه\\u200cام را باد می\\u200cبرد'"
      ]
     },
     "execution_count": 73,
     "metadata": {},
     "output_type": "execute_result"
    }
   ],
   "source": [
    "normalizer = Normalizer(statistical_space_correction=True)\n",
    "normalizer.normalize('خانه ام را باد می‌برد') "
   ]
  },
  {
   "cell_type": "markdown",
   "metadata": {},
   "source": [
    "اصلاح اعراب و حذف فتحه، کسره و ضمه و همچنین تنوین‌ها"
   ]
  },
  {
   "cell_type": "code",
   "execution_count": 41,
   "metadata": {},
   "outputs": [
    {
     "data": {
      "text/plain": [
       "'الا یا ایّها السّاقی ادرْ کاْسا و ناولْها'"
      ]
     },
     "execution_count": 41,
     "metadata": {},
     "output_type": "execute_result"
    }
   ],
   "source": [
    "normalizer.normalize('اَلا یا اَیُّهَا السّاقی اَدِرْ کَأْساً و ناوِلْها') "
   ]
  },
  {
   "cell_type": "markdown",
   "metadata": {},
   "source": [
    "حذف نیم‌فاصله‌های تکراری"
   ]
  },
  {
   "cell_type": "code",
   "execution_count": 76,
   "metadata": {},
   "outputs": [
    {
     "data": {
      "text/plain": [
       "'خانه\\u200c\\u200c\\u200c\\u200c\\u200c\\u200c\\u200cام را باد می\\u200c\\u200c\\u200c\\u200cبرد'"
      ]
     },
     "execution_count": 76,
     "metadata": {},
     "output_type": "execute_result"
    }
   ],
   "source": [
    "normalizer = Normalizer(statistical_space_correction=True)\n",
    "normalizer.normalize('خانه‌‌‌‌‌‌‌ام ‌را باد می‌‌‌‌برد')"
   ]
  },
  {
   "cell_type": "markdown",
   "metadata": {},
   "source": [
    "حذف نویسه‌ی «ـ» که برای کشش نویسه­های چسبان مورد استفاده قرار می­گیرد"
   ]
  },
  {
   "cell_type": "code",
   "execution_count": 77,
   "metadata": {},
   "outputs": [
    {
     "data": {
      "text/plain": [
       "'تبدیل « بر » و « بر » به « بر » '"
      ]
     },
     "execution_count": 77,
     "metadata": {},
     "output_type": "execute_result"
    }
   ],
   "source": [
    "normalizer.normalize('تبدیل «بــــــــر» و «بـــر» به «بر»') "
   ]
  },
  {
   "cell_type": "markdown",
   "metadata": {},
   "source": [
    "چسباندن پسوندهای «تر»، «ترین» و … به آخر واژه‌ها"
   ]
  },
  {
   "cell_type": "code",
   "execution_count": 80,
   "metadata": {},
   "outputs": [
    {
     "data": {
      "text/plain": [
       "'به\\u200cترین شما با تقوا\\u200cترین شماست'"
      ]
     },
     "execution_count": 80,
     "metadata": {},
     "output_type": "execute_result"
    }
   ],
   "source": [
    "normalizer.normalize('به‌ترین شما با تقوا ترین شماست') "
   ]
  },
  {
   "cell_type": "markdown",
   "metadata": {},
   "source": [
    "اصلاح فاصله‌گذاری «ها» در انتهای واژه‌ها"
   ]
  },
  {
   "cell_type": "code",
   "execution_count": 81,
   "metadata": {},
   "outputs": [
    {
     "data": {
      "text/plain": [
       "'واژه\\u200cها و کلمه\\u200cها و جمله\\u200cها زبان\\u200cها را می\\u200cسازند'"
      ]
     },
     "execution_count": 81,
     "metadata": {},
     "output_type": "execute_result"
    }
   ],
   "source": [
    "normalizer.normalize('واژه ها و کلمه‌ ها و جمله ها زبان ها را می‌سازند') "
   ]
  },
  {
   "cell_type": "markdown",
   "metadata": {},
   "source": [
    "اصلاح فاصله‌گذاری «می»"
   ]
  },
  {
   "cell_type": "code",
   "execution_count": 82,
   "metadata": {},
   "outputs": [
    {
     "data": {
      "text/plain": [
       "'می\\u200cایم که بروم نمی\\u200cایم که بمانم'"
      ]
     },
     "execution_count": 82,
     "metadata": {},
     "output_type": "execute_result"
    }
   ],
   "source": [
    "normalizer.normalize('می ایم که بروم نمی‌ایم که بمانم') "
   ]
  },
  {
   "cell_type": "markdown",
   "metadata": {},
   "source": [
    "تبدیل «‍ه» به «‍ه‌ی»"
   ]
  },
  {
   "cell_type": "code",
   "execution_count": 83,
   "metadata": {},
   "outputs": [
    {
     "data": {
      "text/plain": [
       "'جاده قدیمی'"
      ]
     },
     "execution_count": 83,
     "metadata": {},
     "output_type": "execute_result"
    }
   ],
   "source": [
    "normalizer.normalize('جاده قدیمی') "
   ]
  },
  {
   "cell_type": "markdown",
   "metadata": {},
   "source": [
    "تبدیل «ب» متصل به ابتدای واژه‌ها به «به»"
   ]
  },
  {
   "cell_type": "code",
   "execution_count": 84,
   "metadata": {},
   "outputs": [
    {
     "data": {
      "text/plain": [
       "'بنام خدا'"
      ]
     },
     "execution_count": 84,
     "metadata": {},
     "output_type": "execute_result"
    }
   ],
   "source": [
    "normalizer.normalize('بنام خدا') "
   ]
  },
  {
   "cell_type": "markdown",
   "metadata": {},
   "source": [
    "اصلاح فاصله‌گذاری پسوندها\n"
   ]
  },
  {
   "cell_type": "code",
   "execution_count": 87,
   "metadata": {},
   "outputs": [
    {
     "data": {
      "text/plain": [
       "' . در آمد . با هنر . \\u200cباز گشت'"
      ]
     },
     "execution_count": 87,
     "metadata": {},
     "output_type": "execute_result"
    }
   ],
   "source": [
    "normalizer.normalize('. در آمد. با هنر . باز گشت') "
   ]
  },
  {
   "cell_type": "markdown",
   "metadata": {},
   "source": [
    "حذف فاصله‌ها و نیم‌فاصله‌های اضافه بکار رفته در متن\n"
   ]
  },
  {
   "cell_type": "code",
   "execution_count": 88,
   "metadata": {},
   "outputs": [
    {
     "data": {
      "text/plain": [
       "' . \\u200cگفته\\u200c\\u200c\\u200c\\u200c\\u200c\\u200c\\u200c\\u200cبودم چو بیایی غم دل با تو بگویم'"
      ]
     },
     "execution_count": 88,
     "metadata": {},
     "output_type": "execute_result"
    }
   ],
   "source": [
    "normalizer.normalize('. گفته‌‌‌‌‌‌‌‌بودم    چو بیایی غم دل با تو بگویم ') "
   ]
  },
  {
   "cell_type": "markdown",
   "metadata": {},
   "source": [
    "تصحیح فاصله‌گذاری در مورد علائم سجاوندی"
   ]
  },
  {
   "cell_type": "code",
   "execution_count": 89,
   "metadata": {},
   "outputs": [
    {
     "data": {
      "text/plain": [
       "'کوچ تا چند\\u200c ؟! مگر\\u200cمیشود ، از خویش . \\u200cگریخت ؟ '"
      ]
     },
     "execution_count": 89,
     "metadata": {},
     "output_type": "execute_result"
    }
   ],
   "source": [
    "normalizer.normalize('کوچ تا چند ؟! مگر میشود, از خویش . گریخت ؟') "
   ]
  },
  {
   "cell_type": "markdown",
   "metadata": {},
   "source": [
    "حذف حالات فانتزی"
   ]
  },
  {
   "cell_type": "code",
   "execution_count": 91,
   "metadata": {},
   "outputs": [
    {
     "data": {
      "text/plain": [
       "'בر چشم باد'"
      ]
     },
     "execution_count": 91,
     "metadata": {},
     "output_type": "execute_result"
    }
   ],
   "source": [
    "normalizer = Normalizer(date_normalizing_needed=True)\n",
    "normalizer.normalize('בر چشم باد') "
   ]
  },
  {
   "cell_type": "markdown",
   "metadata": {},
   "source": [
    "اتصال کلمه به پیشوند و پسوندهای فعل (صرف فعل)"
   ]
  },
  {
   "cell_type": "code",
   "execution_count": 92,
   "metadata": {},
   "outputs": [
    {
     "data": {
      "text/plain": [
       "'1 نفر را همراه اش آورده\\u200cبود تا جدیتش را برای مسابقه نشان داده باشد . گویا روزی معلم سر کلاس خوابش برده بوده است و او دزدکی وارد کلاس\\u200cشده\\u200cاست . فهمیدم که رفته و همه چیز را کف دست معلم ش گذاشته است . رضا داشته می\\u200cآمده استآنچه او را صبور کرده است ، چشم\\u200cپوشی\\u200cاش بر خطای دیگران است . خواندن کتابی که به احمد دادم ، ثاثیر زیادی روی او گذاشته است .'"
      ]
     },
     "execution_count": 92,
     "metadata": {},
     "output_type": "execute_result"
    }
   ],
   "source": [
    "'''زمان'''\n",
    "normalizer.normalize(\n",
    "'یک نفر را همراه اش آورده بود تا جدیتش را برای مسابقه نشان داده باشد.'\n",
    "'گویا روزی معلم سر کلاس خوابش برده بوده است و او دزدکی وارد کلاس شده است.' \n",
    "'فهمیدم که رفته و همه چیز را کف دست معلم ش گذاشته است. '\n",
    "'رضا داشته می‌آمده استآنچه او را صبور کرده است، چشم‌پوشی‌اش بر خطای دیگران است . '\n",
    "'خواندن کتابی که به احمد دادم، ثأثیر زیادی روی او گذاشته است.'\n",
    ") "
   ]
  },
  {
   "cell_type": "code",
   "execution_count": 93,
   "metadata": {},
   "outputs": [
    {
     "data": {
      "text/plain": [
       "'. ببوی نامه\\u200cام را . به دانش گرای و بدو شو بلند . گفت امش چرا'"
      ]
     },
     "execution_count": 93,
     "metadata": {},
     "output_type": "execute_result"
    }
   ],
   "source": [
    "'''اخر فعل'''\n",
    "normalizer.normalize(' .ببوی نامه ام را . به دانش گرای و بدو شو بلند. گفت امش چرا ')\n"
   ]
  },
  {
   "cell_type": "markdown",
   "metadata": {},
   "source": [
    " اتصال به ی نکره "
   ]
  },
  {
   "cell_type": "code",
   "execution_count": 94,
   "metadata": {},
   "outputs": [
    {
     "data": {
      "text/plain": [
       "'گل ی خوش بوی در حمام روز ی رسید از دست محبوبی به دستم'"
      ]
     },
     "execution_count": 94,
     "metadata": {},
     "output_type": "execute_result"
    }
   ],
   "source": [
    "normalizer.normalize('گل ی خوش بوی در حمام روز ی رسید از دست محبوبی به دستم') "
   ]
  },
  {
   "cell_type": "markdown",
   "metadata": {},
   "source": [
    " ضمایر متصل"
   ]
  },
  {
   "cell_type": "code",
   "execution_count": 96,
   "metadata": {},
   "outputs": [
    {
     "data": {
      "text/plain": [
       "'. کار\\u200cشان . خانه\\u200cام . کتاب\\u200cش را'"
      ]
     },
     "execution_count": 96,
     "metadata": {},
     "output_type": "execute_result"
    }
   ],
   "source": [
    "normalizer.normalize(' .کار‌شان . خانه ام.کتاب‌ش را ') "
   ]
  },
  {
   "cell_type": "markdown",
   "metadata": {},
   "source": [
    " کلمات مرکب"
   ]
  },
  {
   "cell_type": "code",
   "execution_count": 97,
   "metadata": {},
   "outputs": [
    {
     "data": {
      "text/plain": [
       "'گفت\\u200cوگو . جا نماز . رخت کن'"
      ]
     },
     "execution_count": 97,
     "metadata": {},
     "output_type": "execute_result"
    }
   ],
   "source": [
    "normalizer.normalize('گفت و گو . جا نماز . رخت کن') "
   ]
  },
  {
   "cell_type": "markdown",
   "metadata": {},
   "source": [
    "محاوره به رسمی"
   ]
  },
  {
   "cell_type": "code",
   "execution_count": 98,
   "metadata": {},
   "outputs": [
    {
     "data": {
      "text/plain": [
       "'میخوام بیام ولی دارم میرم'"
      ]
     },
     "execution_count": 98,
     "metadata": {},
     "output_type": "execute_result"
    }
   ],
   "source": [
    "normalizer.normalize(' میخوام بیام ولی دارم میرم') "
   ]
  },
  {
   "cell_type": "markdown",
   "metadata": {},
   "source": [
    "تبدیل فینگلیش به فارسی"
   ]
  },
  {
   "cell_type": "code",
   "execution_count": 99,
   "metadata": {},
   "outputs": [
    {
     "data": {
      "text/plain": [
       "'سلام چطوری'"
      ]
     },
     "execution_count": 99,
     "metadata": {},
     "output_type": "execute_result"
    }
   ],
   "source": [
    "normalizer = Normalizer(pinglish_conversion_needed=True)\n",
    "normalizer.normalize('salam chetori') "
   ]
  },
  {
   "cell_type": "markdown",
   "metadata": {},
   "source": [
    "حذف حروف تکراری"
   ]
  },
  {
   "cell_type": "code",
   "execution_count": 100,
   "metadata": {},
   "outputs": [
    {
     "data": {
      "text/plain": [
       "'سلاااااااااااااام'"
      ]
     },
     "execution_count": 100,
     "metadata": {},
     "output_type": "execute_result"
    }
   ],
   "source": [
    "normalizer.normalize('سلاااااااااااااام ') "
   ]
  }
 ],
 "metadata": {
  "kernelspec": {
   "display_name": "Python 3.10.4 64-bit",
   "language": "python",
   "name": "python3"
  },
  "language_info": {
   "codemirror_mode": {
    "name": "ipython",
    "version": 3
   },
   "file_extension": ".py",
   "mimetype": "text/x-python",
   "name": "python",
   "nbconvert_exporter": "python",
   "pygments_lexer": "ipython3",
   "version": "3.10.4"
  },
  "orig_nbformat": 4,
  "vscode": {
   "interpreter": {
    "hash": "afb734500600fd355917ca529030176ea0ca205570884b88f2f6f7d791fd3fbe"
   }
  }
 },
 "nbformat": 4,
 "nbformat_minor": 2
}
