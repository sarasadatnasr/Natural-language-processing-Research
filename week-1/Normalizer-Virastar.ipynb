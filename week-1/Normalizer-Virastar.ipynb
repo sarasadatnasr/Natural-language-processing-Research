{
 "cells": [
  {
   "cell_type": "markdown",
   "metadata": {},
   "source": [
    "**Virastar**\n",
    "\n",
    "https://github.com/JKhakpour/virastar.py"
   ]
  },
  {
   "cell_type": "code",
   "execution_count": 2,
   "metadata": {},
   "outputs": [],
   "source": [
    "from __future__ import unicode_literals\n",
    "import unittest\n",
    "import virastar"
   ]
  },
  {
   "cell_type": "code",
   "execution_count": 3,
   "metadata": {},
   "outputs": [],
   "source": [
    "normalizer = virastar.PersianEditor()\n"
   ]
  },
  {
   "cell_type": "markdown",
   "metadata": {},
   "source": [
    "اصلاح انواع حرف «ک» به معادل فارسی آنان"
   ]
  },
  {
   "cell_type": "code",
   "execution_count": 4,
   "metadata": {},
   "outputs": [
    {
     "name": "stdout",
     "output_type": "stream",
     "text": [
      "1603 1705\n"
     ]
    },
    {
     "data": {
      "text/plain": [
       "'این سبک با کیبورد فارسی و این سبک با کیبور عربی نوشته شده است'"
      ]
     },
     "execution_count": 4,
     "metadata": {},
     "output_type": "execute_result"
    }
   ],
   "source": [
    "i = ord('ك')\n",
    "j = ord('ک')\n",
    "print(i, j)\n",
    "normalizer.cleanup( ' این سبک با کیبورد فارسی و این سبك با کیبور عربی نوشته شده است' )\n"
   ]
  },
  {
   "cell_type": "markdown",
   "metadata": {},
   "source": [
    "اصلاح انواع حرف «ی» به معادل فارسی آنان."
   ]
  },
  {
   "cell_type": "code",
   "execution_count": 5,
   "metadata": {},
   "outputs": [
    {
     "name": "stdout",
     "output_type": "stream",
     "text": [
      "1740 1610\n"
     ]
    },
    {
     "data": {
      "text/plain": [
       "'این شاکی با کیبورد فارسی و این شاکی با کیبور عربی نوشته شده است'"
      ]
     },
     "execution_count": 5,
     "metadata": {},
     "output_type": "execute_result"
    }
   ],
   "source": [
    "i = ord('ی')\n",
    "j = ord('ي')\n",
    "print(i, j)\n",
    "normalizer.cleanup( ' این شاکی با کیبورد فارسی و این شاکي با کیبور عربی نوشته شده است' )"
   ]
  },
  {
   "cell_type": "markdown",
   "metadata": {},
   "source": [
    "بررسی همزه و انواع مختلف املاهای موجود و اصلاح هر کدام"
   ]
  },
  {
   "cell_type": "code",
   "execution_count": 6,
   "metadata": {},
   "outputs": [
    {
     "data": {
      "text/plain": [
       "'این سبو با کیبورد فارسی و این سبؤ با کیبور عربی نوشته شده است'"
      ]
     },
     "execution_count": 6,
     "metadata": {},
     "output_type": "execute_result"
    }
   ],
   "source": [
    "\"\"\"ؤ به و\"\"\"\n",
    "normalizer.cleanup( ' این سبو با کیبورد فارسی و این سبؤ با کیبور عربی نوشته شده است' )\n"
   ]
  },
  {
   "cell_type": "code",
   "execution_count": 7,
   "metadata": {},
   "outputs": [
    {
     "data": {
      "text/plain": [
       "'این ابر با کیبورد فارسی و این أبر با کیبور عربی نوشته شده است'"
      ]
     },
     "execution_count": 7,
     "metadata": {},
     "output_type": "execute_result"
    }
   ],
   "source": [
    "\"\"\"أ به ا \"\"\"\n",
    "normalizer.cleanup( ' این ابر با کیبورد فارسی و این أبر با کیبور عربی نوشته شده است' )"
   ]
  },
  {
   "cell_type": "markdown",
   "metadata": {},
   "source": [
    "حذف شناسه‌ی همزه از انتهای واژه‌"
   ]
  },
  {
   "cell_type": "code",
   "execution_count": 8,
   "metadata": {},
   "outputs": [
    {
     "data": {
      "text/plain": [
       "'شهداء خورشیدند'"
      ]
     },
     "execution_count": 8,
     "metadata": {},
     "output_type": "execute_result"
    }
   ],
   "source": [
    "normalizer.cleanup('شهداء خورشیدند')"
   ]
  },
  {
   "cell_type": "markdown",
   "metadata": {},
   "source": [
    " حذف شناسه «آ» به «ا"
   ]
  },
  {
   "cell_type": "code",
   "execution_count": 10,
   "metadata": {},
   "outputs": [
    {
     "data": {
      "text/plain": [
       "'آب یا اب'"
      ]
     },
     "execution_count": 10,
     "metadata": {},
     "output_type": "execute_result"
    }
   ],
   "source": [
    "normalizer.cleanup('آب  یا اب') "
   ]
  },
  {
   "cell_type": "markdown",
   "metadata": {},
   "source": [
    "اصلاح نویسه‌ی «طور» در واژه‌"
   ]
  },
  {
   "cell_type": "code",
   "execution_count": 11,
   "metadata": {},
   "outputs": [
    {
     "data": {
      "text/plain": [
       "'به طور خاص آن طور که شایسته بود اینطور نشد'"
      ]
     },
     "execution_count": 11,
     "metadata": {},
     "output_type": "execute_result"
    }
   ],
   "source": [
    "\n",
    "normalizer.cleanup(' به طور خاص  آن طور که شایسته بود اینطور نشد') "
   ]
  },
  {
   "cell_type": "markdown",
   "metadata": {},
   "source": [
    "بررسی وجود حرف «ی» در انتهای لغات"
   ]
  },
  {
   "cell_type": "code",
   "execution_count": 12,
   "metadata": {},
   "outputs": [
    {
     "data": {
      "text/plain": [
       "'که چرا باغچهٔ کوچک ما سیب نداشت'"
      ]
     },
     "execution_count": 12,
     "metadata": {},
     "output_type": "execute_result"
    }
   ],
   "source": [
    "normalizer.cleanup('که چرا باغچه‌ی کوچک ما سیب نداشت') "
   ]
  },
  {
   "cell_type": "markdown",
   "metadata": {},
   "source": [
    "حذف تشدید از واژه‌ها\n"
   ]
  },
  {
   "cell_type": "code",
   "execution_count": 13,
   "metadata": {},
   "outputs": [
    {
     "data": {
      "text/plain": [
       "'بنّا مشفول کار است'"
      ]
     },
     "execution_count": 13,
     "metadata": {},
     "output_type": "execute_result"
    }
   ],
   "source": [
    "normalizer.cleanup('بنّا مشفول کار است') "
   ]
  },
  {
   "cell_type": "markdown",
   "metadata": {},
   "source": [
    "تبدیل ارقام انگلیسی به معادل فارسی"
   ]
  },
  {
   "cell_type": "code",
   "execution_count": 14,
   "metadata": {},
   "outputs": [
    {
     "data": {
      "text/plain": [
       "'۱۲۳۴۵ شماره من'"
      ]
     },
     "execution_count": 14,
     "metadata": {},
     "output_type": "execute_result"
    }
   ],
   "source": [
    "normalizer.cleanup('12345 شماره من ') "
   ]
  },
  {
   "cell_type": "markdown",
   "metadata": {},
   "source": [
    "تبدیل ارقام عربی به معادل فارسی"
   ]
  },
  {
   "cell_type": "code",
   "execution_count": 15,
   "metadata": {},
   "outputs": [
    {
     "data": {
      "text/plain": [
       "'۱۲۳۴۵ شماره من'"
      ]
     },
     "execution_count": 15,
     "metadata": {},
     "output_type": "execute_result"
    }
   ],
   "source": [
    "normalizer.cleanup('١٢٣٤٥  شماره من ') "
   ]
  },
  {
   "cell_type": "markdown",
   "metadata": {},
   "source": [
    "اصلاح نویسه‌ی نیم‌فاصله"
   ]
  },
  {
   "cell_type": "code",
   "execution_count": 16,
   "metadata": {},
   "outputs": [
    {
     "data": {
      "text/plain": [
       "'خانه\\u200cام را باد می\\u200cبرد'"
      ]
     },
     "execution_count": 16,
     "metadata": {},
     "output_type": "execute_result"
    }
   ],
   "source": [
    "normalizer.cleanup('خانه‌ام را باد می‌برد') "
   ]
  },
  {
   "cell_type": "markdown",
   "metadata": {},
   "source": [
    "اصلاح اعراب و حذف فتحه، کسره و ضمه و همچنین تنوین‌ها"
   ]
  },
  {
   "cell_type": "code",
   "execution_count": 17,
   "metadata": {},
   "outputs": [
    {
     "data": {
      "text/plain": [
       "'اَلا یا اَیُّهَا السّاقی اَدِرْ کَأْساً و ناوِلْها'"
      ]
     },
     "execution_count": 17,
     "metadata": {},
     "output_type": "execute_result"
    }
   ],
   "source": [
    "normalizer.cleanup('اَلا یا اَیُّهَا السّاقی اَدِرْ کَأْساً و ناوِلْها') "
   ]
  },
  {
   "cell_type": "markdown",
   "metadata": {},
   "source": [
    "حذف نیم‌فاصله‌های تکراری"
   ]
  },
  {
   "cell_type": "code",
   "execution_count": 18,
   "metadata": {},
   "outputs": [
    {
     "data": {
      "text/plain": [
       "'خانه\\u200c\\u200c\\u200c\\u200c\\u200c\\u200c\\u200cام را باد می\\u200c\\u200c\\u200c\\u200cبرد'"
      ]
     },
     "execution_count": 18,
     "metadata": {},
     "output_type": "execute_result"
    }
   ],
   "source": [
    "normalizer.cleanup('خانه‌‌‌‌‌‌‌ام ‌را باد می‌‌‌‌برد')"
   ]
  },
  {
   "cell_type": "markdown",
   "metadata": {},
   "source": [
    "حذف نویسه‌ی «ـ» که برای کشش نویسه­های چسبان مورد استفاده قرار می­گیرد"
   ]
  },
  {
   "cell_type": "code",
   "execution_count": 19,
   "metadata": {},
   "outputs": [
    {
     "data": {
      "text/plain": [
       "'تبدیل «بر» و «بر» به «بر»'"
      ]
     },
     "execution_count": 19,
     "metadata": {},
     "output_type": "execute_result"
    }
   ],
   "source": [
    "normalizer.cleanup('تبدیل «بــــــــر» و «بـــر» به «بر»') "
   ]
  },
  {
   "cell_type": "markdown",
   "metadata": {},
   "source": [
    "چسباندن پسوندهای «تر»، «ترین» و … به آخر واژه‌ها"
   ]
  },
  {
   "cell_type": "code",
   "execution_count": 20,
   "metadata": {},
   "outputs": [
    {
     "data": {
      "text/plain": [
       "'به\\u200cترین شما با تقوا\\u200cترین شماست'"
      ]
     },
     "execution_count": 20,
     "metadata": {},
     "output_type": "execute_result"
    }
   ],
   "source": [
    "normalizer.cleanup('به‌ ترین شما با تقوا ترین شماست') "
   ]
  },
  {
   "cell_type": "markdown",
   "metadata": {},
   "source": [
    "اصلاح فاصله‌گذاری «ها» در انتهای واژه‌ها"
   ]
  },
  {
   "cell_type": "code",
   "execution_count": 21,
   "metadata": {},
   "outputs": [
    {
     "data": {
      "text/plain": [
       "'واژه\\u200cها و کلمه\\u200cها و جمله\\u200cها زبان\\u200cها را می\\u200cسازند'"
      ]
     },
     "execution_count": 21,
     "metadata": {},
     "output_type": "execute_result"
    }
   ],
   "source": [
    "normalizer.cleanup('واژه ها و کلمه‌ ها و جمله ها زبان ها را می‌سازند') "
   ]
  },
  {
   "cell_type": "markdown",
   "metadata": {},
   "source": [
    "اصلاح فاصله‌گذاری «می»"
   ]
  },
  {
   "cell_type": "code",
   "execution_count": 22,
   "metadata": {},
   "outputs": [
    {
     "data": {
      "text/plain": [
       "'می ایم که بروم نمی\\u200cایم که بمانم'"
      ]
     },
     "execution_count": 22,
     "metadata": {},
     "output_type": "execute_result"
    }
   ],
   "source": [
    "normalizer.cleanup('می ایم که بروم نمی‌ایم که بمانم') "
   ]
  },
  {
   "cell_type": "markdown",
   "metadata": {},
   "source": [
    "تبدیل «‍ه» به «‍ه‌ی»"
   ]
  },
  {
   "cell_type": "code",
   "execution_count": 23,
   "metadata": {},
   "outputs": [
    {
     "data": {
      "text/plain": [
       "'جاده قدیمی'"
      ]
     },
     "execution_count": 23,
     "metadata": {},
     "output_type": "execute_result"
    }
   ],
   "source": [
    "normalizer.cleanup('جاده قدیمی') "
   ]
  },
  {
   "cell_type": "markdown",
   "metadata": {},
   "source": [
    "تبدیل «ب» متصل به ابتدای واژه‌ها به «به»"
   ]
  },
  {
   "cell_type": "code",
   "execution_count": 24,
   "metadata": {},
   "outputs": [
    {
     "data": {
      "text/plain": [
       "'بنام خدا'"
      ]
     },
     "execution_count": 24,
     "metadata": {},
     "output_type": "execute_result"
    }
   ],
   "source": [
    "normalizer.cleanup('بنام خدا') "
   ]
  },
  {
   "cell_type": "markdown",
   "metadata": {},
   "source": [
    "اصلاح فاصله‌گذاری پسوندها\n"
   ]
  },
  {
   "cell_type": "code",
   "execution_count": 35,
   "metadata": {},
   "outputs": [
    {
     "data": {
      "text/plain": [
       "'. درآمد. با هنر. باز گشت'"
      ]
     },
     "execution_count": 35,
     "metadata": {},
     "output_type": "execute_result"
    }
   ],
   "source": [
    "normalizer.cleanup('. درآمد. با هنر. باز گشت') "
   ]
  },
  {
   "cell_type": "markdown",
   "metadata": {},
   "source": [
    "حذف فاصله‌ها و نیم‌فاصله‌های اضافه بکار رفته در متن\n"
   ]
  },
  {
   "cell_type": "code",
   "execution_count": 34,
   "metadata": {},
   "outputs": [
    {
     "data": {
      "text/plain": [
       "'. گفته\\u200c\\u200c\\u200c\\u200c\\u200c\\u200c\\u200c\\u200cبودم چو بیایی غم دل با تو بگویم'"
      ]
     },
     "execution_count": 34,
     "metadata": {},
     "output_type": "execute_result"
    }
   ],
   "source": [
    "normalizer.cleanup('. گفته‌‌‌‌‌‌‌‌بودم    چو بیایی غم دل با تو بگویم ') "
   ]
  },
  {
   "cell_type": "markdown",
   "metadata": {},
   "source": [
    "تصحیح فاصله‌گذاری در مورد علائم سجاوندی"
   ]
  },
  {
   "cell_type": "code",
   "execution_count": 32,
   "metadata": {},
   "outputs": [
    {
     "data": {
      "text/plain": [
       "'کوچ تا چند؟ ! مگر میشود، از خویش. گریخت؟'"
      ]
     },
     "execution_count": 32,
     "metadata": {},
     "output_type": "execute_result"
    }
   ],
   "source": [
    "normalizer.cleanup('کوچ تا چند ؟! مگر میشود, از خویش . گریخت ؟') "
   ]
  },
  {
   "cell_type": "markdown",
   "metadata": {},
   "source": [
    "حذف حالات فانتزی"
   ]
  },
  {
   "cell_type": "code",
   "execution_count": 33,
   "metadata": {},
   "outputs": [
    {
     "data": {
      "text/plain": [
       "'בر چشم باد'"
      ]
     },
     "execution_count": 33,
     "metadata": {},
     "output_type": "execute_result"
    }
   ],
   "source": [
    "normalizer.cleanup('בر چشم باد') "
   ]
  },
  {
   "cell_type": "markdown",
   "metadata": {},
   "source": [
    "اتصال کلمه به پیشوند و پسوندهای فعل (صرف فعل)"
   ]
  },
  {
   "cell_type": "code",
   "execution_count": 31,
   "metadata": {},
   "outputs": [
    {
     "data": {
      "text/plain": [
       "'یک نفر را همراه اش آورده بود تا جدیتش را برای مسابقه نشان داده باشد. گویا روزی معلم سر کلاس خوابش برده بوده است و او دزدکی وارد کلاس شده است. فهمیدم که رفته و همه چیز را کف دست معلم ش گذاشته است. رضا داشته می\\u200cآمده استآنچه او را صبور کرده است، چشم\\u200cپوشی\\u200cاش بر خطای دیگران است. خواندن کتابی که به احمد دادم، ثأثیر زیادی روی او گذاشته است.'"
      ]
     },
     "execution_count": 31,
     "metadata": {},
     "output_type": "execute_result"
    }
   ],
   "source": [
    "'''زمان'''\n",
    "normalizer.cleanup(\n",
    "'یک نفر را همراه اش آورده بود تا جدیتش را برای مسابقه نشان داده باشد.'\n",
    "'گویا روزی معلم سر کلاس خوابش برده بوده است و او دزدکی وارد کلاس شده است.' \n",
    "'فهمیدم که رفته و همه چیز را کف دست معلم ش گذاشته است. '\n",
    "'رضا داشته می‌آمده استآنچه او را صبور کرده است، چشم‌پوشی‌اش بر خطای دیگران است . '\n",
    "'خواندن کتابی که به احمد دادم، ثأثیر زیادی روی او گذاشته است.'\n",
    ") "
   ]
  },
  {
   "cell_type": "code",
   "execution_count": 30,
   "metadata": {},
   "outputs": [
    {
     "data": {
      "text/plain": [
       "'. ببوی نامه ام را. به دانش گرای و بدو شو بلند. گفت امش چرا'"
      ]
     },
     "execution_count": 30,
     "metadata": {},
     "output_type": "execute_result"
    }
   ],
   "source": [
    "'''اخر فعل'''\n",
    "normalizer.cleanup(' .ببوی نامه ام را . به دانش گرای و بدو شو بلند. گفت امش چرا ')\n"
   ]
  },
  {
   "cell_type": "markdown",
   "metadata": {},
   "source": [
    " اتصال به ی نکره "
   ]
  },
  {
   "cell_type": "code",
   "execution_count": 29,
   "metadata": {},
   "outputs": [
    {
     "data": {
      "text/plain": [
       "'گل ی خوش بوی در حمام روز ی رسید از دست محبوبی به دستم'"
      ]
     },
     "execution_count": 29,
     "metadata": {},
     "output_type": "execute_result"
    }
   ],
   "source": [
    "normalizer.cleanup('گل ی خوش بوی در حمام روز ی رسید از دست محبوبی به دستم') "
   ]
  },
  {
   "cell_type": "markdown",
   "metadata": {},
   "source": [
    " ضمایر متصل"
   ]
  },
  {
   "cell_type": "code",
   "execution_count": 28,
   "metadata": {},
   "outputs": [
    {
     "data": {
      "text/plain": [
       "'. کار\\u200cشان. خانهم. کتاب\\u200cش را'"
      ]
     },
     "execution_count": 28,
     "metadata": {},
     "output_type": "execute_result"
    }
   ],
   "source": [
    "normalizer.cleanup(' .کار‌شان . خانهم.کتاب‌ش را ') "
   ]
  },
  {
   "cell_type": "markdown",
   "metadata": {},
   "source": [
    " کلمات مرکب"
   ]
  },
  {
   "cell_type": "code",
   "execution_count": 27,
   "metadata": {},
   "outputs": [
    {
     "data": {
      "text/plain": [
       "'گفت و گو. جا نماز. رخت کن'"
      ]
     },
     "execution_count": 27,
     "metadata": {},
     "output_type": "execute_result"
    }
   ],
   "source": [
    "normalizer.cleanup('گفت و گو . جا نماز . رخت کن') "
   ]
  },
  {
   "cell_type": "markdown",
   "metadata": {},
   "source": [
    "محاوره به رسمی"
   ]
  },
  {
   "cell_type": "code",
   "execution_count": 41,
   "metadata": {},
   "outputs": [
    {
     "data": {
      "text/plain": [
       "' میخوام بیام ولی دارم میرم'"
      ]
     },
     "execution_count": 41,
     "metadata": {},
     "output_type": "execute_result"
    }
   ],
   "source": [
    "normalizer.cleanup(' میخوام بیام ولی دارم میرم') "
   ]
  },
  {
   "cell_type": "markdown",
   "metadata": {},
   "source": [
    "تبدیل فینگلیش به فارسی"
   ]
  },
  {
   "cell_type": "code",
   "execution_count": 26,
   "metadata": {},
   "outputs": [
    {
     "data": {
      "text/plain": [
       "'salam chetori'"
      ]
     },
     "execution_count": 26,
     "metadata": {},
     "output_type": "execute_result"
    }
   ],
   "source": [
    "normalizer.cleanup('salam chetori') "
   ]
  },
  {
   "cell_type": "markdown",
   "metadata": {},
   "source": [
    "حذف حروف تکراری"
   ]
  },
  {
   "cell_type": "code",
   "execution_count": 25,
   "metadata": {},
   "outputs": [
    {
     "data": {
      "text/plain": [
       "'سلاااااااااااااام'"
      ]
     },
     "execution_count": 25,
     "metadata": {},
     "output_type": "execute_result"
    }
   ],
   "source": [
    "normalizer.cleanup('سلاااااااااااااام ') "
   ]
  }
 ],
 "metadata": {
  "kernelspec": {
   "display_name": "Python 3.10.4 64-bit",
   "language": "python",
   "name": "python3"
  },
  "language_info": {
   "codemirror_mode": {
    "name": "ipython",
    "version": 3
   },
   "file_extension": ".py",
   "mimetype": "text/x-python",
   "name": "python",
   "nbconvert_exporter": "python",
   "pygments_lexer": "ipython3",
   "version": "3.10.4"
  },
  "orig_nbformat": 4,
  "vscode": {
   "interpreter": {
    "hash": "916dbcbb3f70747c44a77c7bcd40155683ae19c65e1c03b4aa3499c5328201f1"
   }
  }
 },
 "nbformat": 4,
 "nbformat_minor": 2
}
