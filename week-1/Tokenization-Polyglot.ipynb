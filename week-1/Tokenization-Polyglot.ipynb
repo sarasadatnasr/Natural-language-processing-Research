{
 "cells": [
  {
   "cell_type": "markdown",
   "metadata": {},
   "source": [
    "**HAZM**\n",
    "\n",
    "https://www.roshan-ai.ir/hazm/"
   ]
  },
  {
   "cell_type": "code",
   "execution_count": 12,
   "metadata": {},
   "outputs": [
    {
     "name": "stdout",
     "output_type": "stream",
     "text": [
      "Defaulting to user installation because normal site-packages is not writeable\n",
      "Requirement already satisfied: polyglot in /home/sars/.local/lib/python3.10/site-packages (16.7.4)\n",
      "Defaulting to user installation because normal site-packages is not writeable\n",
      "Requirement already satisfied: numpy in /home/sars/.local/lib/python3.10/site-packages (1.23.1)\n",
      "Defaulting to user installation because normal site-packages is not writeable\n",
      "Requirement already satisfied: pyicu in /usr/lib/python3/dist-packages (2.8.1)\n",
      "Defaulting to user installation because normal site-packages is not writeable\n",
      "Requirement already satisfied: pycld2 in /home/sars/.local/lib/python3.10/site-packages (0.41)\n",
      "Defaulting to user installation because normal site-packages is not writeable\n",
      "Requirement already satisfied: morfessor in /home/sars/.local/lib/python3.10/site-packages (2.0.6)\n"
     ]
    }
   ],
   "source": [
    "!pip install polyglot\n",
    "!pip install numpy\n",
    "!pip install pyicu\n",
    "!pip install pycld2\n",
    "!pip install morfessor"
   ]
  },
  {
   "cell_type": "code",
   "execution_count": 13,
   "metadata": {},
   "outputs": [],
   "source": [
    "import polyglot\n",
    "from polyglot.text import Text, Word"
   ]
  },
  {
   "cell_type": "markdown",
   "metadata": {},
   "source": [
    "نشانۀ جمع «ها»"
   ]
  },
  {
   "cell_type": "code",
   "execution_count": 15,
   "metadata": {},
   "outputs": [
    {
     "name": "stdout",
     "output_type": "stream",
     "text": [
      "['متن', 'گفتمانی', 'است', 'بیان\\u200cکننده', 'احساسات', '،', 'عواطف', '،', 'کنش\\u200cها', '،', 'واکنش\\u200cها', '.']\n"
     ]
    }
   ],
   "source": [
    "text = Text('متن گفتمانی است بیان‌کننده احساسات، عواطف، کنش‌ها، واکنش‌ها.')\n",
    "print(text.words)"
   ]
  },
  {
   "cell_type": "markdown",
   "metadata": {},
   "source": [
    "«ها» شبه جمله"
   ]
  },
  {
   "cell_type": "code",
   "execution_count": 16,
   "metadata": {},
   "outputs": [
    {
     "name": "stdout",
     "output_type": "stream",
     "text": [
      "['چه\\u200cکار', 'می\\u200cکنی', '؟', 'ها', '؟', 'می\\u200cزنیم', '؟\\u200c', 'ها', '؟']\n"
     ]
    }
   ],
   "source": [
    "text = Text('چه‌کار می‌کنی؟ ها؟ می‌زنیم؟‌ ها؟')\n",
    "print(text.words)"
   ]
  },
  {
   "cell_type": "markdown",
   "metadata": {},
   "source": [
    "واژه‌های مرکب جدا"
   ]
  },
  {
   "cell_type": "code",
   "execution_count": 18,
   "metadata": {},
   "outputs": [
    {
     "name": "stdout",
     "output_type": "stream",
     "text": [
      "['با', 'حشره\\u200cکش', '،', 'پروانه\\u200cها', 'را', 'دیوانه\\u200cوار', 'می\\u200cکُشد', 'و', 'می\\u200cگوید', '.', '.', '.', 'پروانه\\u200cها', 'بدیمن\\u200cاند', '.']\n"
     ]
    }
   ],
   "source": [
    "text = Text('با حشره‌کش، پروانه‌ها را دیوانه‌وار می‌کُشد و می‌گوید... پروانه‌ها بدیمن‌اند.')\n",
    "print(text.words)"
   ]
  },
  {
   "cell_type": "markdown",
   "metadata": {},
   "source": [
    "فعل ‌هایی با دو بخش جدا«باشم شدم ...»"
   ]
  },
  {
   "cell_type": "code",
   "execution_count": 7,
   "metadata": {},
   "outputs": [
    {
     "data": {
      "text/plain": [
       "['ناگهان', 'فهمید', 'کور', 'خوانده\\u200cاست', '.']"
      ]
     },
     "execution_count": 7,
     "metadata": {},
     "output_type": "execute_result"
    }
   ],
   "source": [
    "text = Text('ناگهان فهمید کور خوانده‌است.')\n",
    "print(text.words)"
   ]
  },
  {
   "cell_type": "markdown",
   "metadata": {},
   "source": [
    "فعل ‌هایی با دو بخش چسبیده"
   ]
  },
  {
   "cell_type": "code",
   "execution_count": 19,
   "metadata": {},
   "outputs": [
    {
     "name": "stdout",
     "output_type": "stream",
     "text": [
      "['من', '،', 'همه', 'عمر', '،', 'آن\\u200cچه', 'گفته\\u200cام', 'از', 'سیاست', 'گفته\\u200cام', '.']\n"
     ]
    }
   ],
   "source": [
    "text = Text('من، همه عمر، آن‌چه گفته‌ام از سیاست گفته‌ام.')\n",
    "print(text.words)"
   ]
  },
  {
   "cell_type": "markdown",
   "metadata": {},
   "source": [
    "فعل مرکب"
   ]
  },
  {
   "cell_type": "code",
   "execution_count": 20,
   "metadata": {},
   "outputs": [
    {
     "name": "stdout",
     "output_type": "stream",
     "text": [
      "['و', 'هرگز', 'دست', 'از', 'پا', 'خطا', 'نمی', 'کند']\n"
     ]
    }
   ],
   "source": [
    "text = Text('و هرگز دست از پا خطا نمی کند')\n",
    "print(text.words)"
   ]
  },
  {
   "cell_type": "markdown",
   "metadata": {},
   "source": [
    "فعل شبه مرکب"
   ]
  },
  {
   "cell_type": "code",
   "execution_count": null,
   "metadata": {},
   "outputs": [],
   "source": [
    "text = Text('با حرف های خود کارها را خراب کرد.')\n",
    "print(text.words)"
   ]
  },
  {
   "cell_type": "markdown",
   "metadata": {},
   "source": [
    "افعال دارای «می»"
   ]
  },
  {
   "cell_type": "code",
   "execution_count": 21,
   "metadata": {},
   "outputs": [
    {
     "name": "stdout",
     "output_type": "stream",
     "text": [
      "['من', 'نیز', 'می\\u200cخواسته\\u200cام', 'که', 'مرا', 'به\\u200cزنهار', 'خود', 'درآرد', '.']\n"
     ]
    }
   ],
   "source": [
    "text = Text('من نیز می‌خواسته‌ام که مرا به‌زنهار خود درآرد.')\n",
    "print(text.words)"
   ]
  },
  {
   "cell_type": "markdown",
   "metadata": {},
   "source": [
    "«ی»اضافه"
   ]
  },
  {
   "cell_type": "code",
   "execution_count": 11,
   "metadata": {},
   "outputs": [
    {
     "data": {
      "text/plain": [
       "['ز',\n",
       " 'معمای',\n",
       " 'سربستۀ',\n",
       " 'مشکل\\u200cگشای',\n",
       " 'هزار',\n",
       " 'اسم',\n",
       " 'گوناگون',\n",
       " 'بیرون',\n",
       " 'می\\u200cآورد']"
      ]
     },
     "execution_count": 11,
     "metadata": {},
     "output_type": "execute_result"
    }
   ],
   "source": [
    "text = Text('ز معمای سربستۀ مشکل‌گشای هزار اسم گوناگون بیرون می‌آورد')\n",
    "print(text.words)"
   ]
  },
  {
   "cell_type": "markdown",
   "metadata": {},
   "source": [
    "«ای» نکره"
   ]
  },
  {
   "cell_type": "code",
   "execution_count": 12,
   "metadata": {},
   "outputs": [
    {
     "data": {
      "text/plain": [
       "['از',\n",
       " 'خانه\\u200cای',\n",
       " 'به\\u200cدر',\n",
       " 'می\\u200cآمدم',\n",
       " 'و',\n",
       " 'در',\n",
       " 'خانه\\u200cای',\n",
       " 'دیگر',\n",
       " 'می\\u200cرفتم',\n",
       " '.']"
      ]
     },
     "execution_count": 12,
     "metadata": {},
     "output_type": "execute_result"
    }
   ],
   "source": [
    "text = Text('از خانه‌ای به‌در می‌آمدم و در خانه‌ای دیگر می‌رفتم.')\n",
    "print(text.words)"
   ]
  },
  {
   "cell_type": "markdown",
   "metadata": {},
   "source": [
    "جدا کردن برخی پسوندها مانند «تر» و «ترین»"
   ]
  },
  {
   "cell_type": "code",
   "execution_count": 13,
   "metadata": {},
   "outputs": [
    {
     "data": {
      "text/plain": [
       "['شیطان\\u200cترین',\n",
       " 'بچّه\\u200cهای',\n",
       " 'شیراز',\n",
       " 'بچّه\\u200cهای',\n",
       " 'دروازه',\n",
       " 'سعدی',\n",
       " 'هستند',\n",
       " '.']"
      ]
     },
     "execution_count": 13,
     "metadata": {},
     "output_type": "execute_result"
    }
   ],
   "source": [
    "text = Text('شیطان‌ترین بچّه‌های شیراز بچّه‌های دروازه سعدی هستند.')\n",
    "print(text.words)"
   ]
  },
  {
   "cell_type": "markdown",
   "metadata": {},
   "source": [
    "واژه «تر»"
   ]
  },
  {
   "cell_type": "code",
   "execution_count": 14,
   "metadata": {},
   "outputs": [
    {
     "data": {
      "text/plain": [
       "['زمانی\\u200cکه',\n",
       " 'از',\n",
       " 'لُنگِ',\n",
       " 'تر',\n",
       " '،',\n",
       " 'خط\\u200cهای',\n",
       " 'قرمزی',\n",
       " 'بر',\n",
       " 'بدن',\n",
       " 'ما',\n",
       " 'نقش',\n",
       " 'بست',\n",
       " '،',\n",
       " 'بابام',\n",
       " 'آرام',\n",
       " 'شد',\n",
       " '.']"
      ]
     },
     "execution_count": 14,
     "metadata": {},
     "output_type": "execute_result"
    }
   ],
   "source": [
    "text = Text('زمانی‌که از لُنگِ تر، خط‌های قرمزی بر بدن ما نقش بست، بابام آرام شد.')\n",
    "print(text.words)"
   ]
  },
  {
   "cell_type": "markdown",
   "metadata": {},
   "source": [
    "جدا کردن برخی پسوندها مانند «شده» "
   ]
  },
  {
   "cell_type": "code",
   "execution_count": 15,
   "metadata": {},
   "outputs": [
    {
     "data": {
      "text/plain": [
       "['سمرقند',\n",
       " 'زاده',\n",
       " 'و',\n",
       " 'به',\n",
       " 'باورد',\n",
       " 'بزرگ\\u200cشده',\n",
       " 'و',\n",
       " 'کوفی',\n",
       " 'اصل',\n",
       " 'است',\n",
       " '.']"
      ]
     },
     "execution_count": 15,
     "metadata": {},
     "output_type": "execute_result"
    }
   ],
   "source": [
    "text = Text('سمرقند زاده و به باورد بزرگ‌شده و کوفی اصل است.')\n",
    "print(text.words)"
   ]
  },
  {
   "cell_type": "markdown",
   "metadata": {},
   "source": [
    "قواعد جدانویسی : برای مثال، اگر دو کلمۀ «آن» و «این» قبل از یک اسم بیاین"
   ]
  },
  {
   "cell_type": "code",
   "execution_count": 4,
   "metadata": {},
   "outputs": [
    {
     "data": {
      "text/plain": [
       "['شوهر',\n",
       " 'از',\n",
       " 'مشاهدت',\n",
       " 'آن\\u200c',\n",
       " 'حال',\n",
       " 'بر',\n",
       " 'جفای',\n",
       " 'زن',\n",
       " 'پشیمانی',\n",
       " 'تمام',\n",
       " 'خورد',\n",
       " '.']"
      ]
     },
     "execution_count": 4,
     "metadata": {},
     "output_type": "execute_result"
    }
   ],
   "source": [
    "text = Text('شوهر از مشاهدت آن‌ حال بر جفای زن پشیمانی تمام خورد.')\n",
    "print(text.words)"
   ]
  },
  {
   "cell_type": "markdown",
   "metadata": {},
   "source": [
    "جدا کننده غبر قطعی مثل ."
   ]
  },
  {
   "cell_type": "code",
   "execution_count": 16,
   "metadata": {},
   "outputs": [
    {
     "data": {
      "text/plain": [
       "['در',\n",
       " 'اوایل',\n",
       " 'رمضان',\n",
       " 'سال',\n",
       " '1291',\n",
       " 'ه',\n",
       " '.',\n",
       " 'ق',\n",
       " 'در',\n",
       " 'تبریز',\n",
       " 'به\\u200cدنیا',\n",
       " 'آمد',\n",
       " '.']"
      ]
     },
     "execution_count": 16,
     "metadata": {},
     "output_type": "execute_result"
    }
   ],
   "source": [
    "text = Text('در اوایل رمضان سال 1291 ه.ق در تبریز به‌دنیا آمد.')\n",
    "print(text.words)"
   ]
  },
  {
   "cell_type": "markdown",
   "metadata": {},
   "source": [
    "جدا نکردن پشوند و پسوند"
   ]
  },
  {
   "cell_type": "code",
   "execution_count": 17,
   "metadata": {},
   "outputs": [
    {
     "data": {
      "text/plain": [
       "['حتی', 'پرسیدم', 'که', 'بهشان', 'برخورد', '.']"
      ]
     },
     "execution_count": 17,
     "metadata": {},
     "output_type": "execute_result"
    }
   ],
   "source": [
    "text = Text('حتی پرسیدم که بهشان برخورد.')\n",
    "print(text.words)"
   ]
  },
  {
   "cell_type": "markdown",
   "metadata": {},
   "source": [
    "جدا کردن حرف ندا "
   ]
  },
  {
   "cell_type": "code",
   "execution_count": 19,
   "metadata": {},
   "outputs": [
    {
     "data": {
      "text/plain": [
       "['خدایا', '،', 'خدایا', '،', 'چرا', 'مرا', 'واگذاشتی', '؟']"
      ]
     },
     "execution_count": 19,
     "metadata": {},
     "output_type": "execute_result"
    }
   ],
   "source": [
    "text = Text('خدایا، خدایا، چرا مرا واگذاشتی؟')\n",
    "print(text.words)"
   ]
  },
  {
   "cell_type": "markdown",
   "metadata": {},
   "source": [
    "جدا کردن ست مانند : اوست"
   ]
  },
  {
   "cell_type": "code",
   "execution_count": 20,
   "metadata": {},
   "outputs": [
    {
     "data": {
      "text/plain": [
       "['هم', 'اوست', 'عاشق', '،', 'هم', 'اوست', 'معشوق', '.']"
      ]
     },
     "execution_count": 20,
     "metadata": {},
     "output_type": "execute_result"
    }
   ],
   "source": [
    "text = Text('هم اوست عاشق، هم اوست معشوق.')\n",
    "print(text.words)"
   ]
  }
 ],
 "metadata": {
  "kernelspec": {
   "display_name": "Python 3.10.4 64-bit",
   "language": "python",
   "name": "python3"
  },
  "language_info": {
   "codemirror_mode": {
    "name": "ipython",
    "version": 3
   },
   "file_extension": ".py",
   "mimetype": "text/x-python",
   "name": "python",
   "nbconvert_exporter": "python",
   "pygments_lexer": "ipython3",
   "version": "3.10.4"
  },
  "orig_nbformat": 4,
  "vscode": {
   "interpreter": {
    "hash": "916dbcbb3f70747c44a77c7bcd40155683ae19c65e1c03b4aa3499c5328201f1"
   }
  }
 },
 "nbformat": 4,
 "nbformat_minor": 2
}
